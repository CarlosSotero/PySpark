{
  "nbformat": 4,
  "nbformat_minor": 0,
  "metadata": {
    "colab": {
      "provenance": []
    },
    "kernelspec": {
      "name": "python3",
      "display_name": "Python 3"
    },
    "language_info": {
      "name": "python"
    }
  },
  "cells": [
    {
      "cell_type": "markdown",
      "source": [
        "# Case Final\n",
        "## Análise de Transações PIX\n",
        "CRISP-DM - https://www.escoladnc.com.br/blog/data-science/metodologia-crisp-dm/\n",
        "### Objetivos\n",
        "- Limpar e pré-processar os dados das transações PIX\n",
        "- Analisar padrões de uso do PIX, tais como os canais mais utilizados e os valores de transação mais comuns\n",
        "- Use o PySpark MLlib para treinar e avaliar um modelo de detecção de fraude\n",
        "- Avaliar o desempenho do modelo e fazer recomendações para melhorias futuras\n",
        "\n",
        "### Dados\n",
        "\n",
        "O conjunto de dados inclui as seguintes informações para cada transação:\n",
        "- Detalhes da transação: valor, tempo, remetente e receptor CPF/CNPJ, tipo\n",
        "- Etiqueta de fraude: uma variável binária que indica se a transação foi fraudulenta (1) ou não (0)\n",
        "\n",
        "### Tarefas\n",
        "- Normalização dos dados:\n",
        "  - O dataset que você lerá está em formato json.\n",
        "  ```json\n",
        "  {\n",
        "      \"id_transacao\": inteiro,\n",
        "      \"valor\": texto,\n",
        "      \"remetente\": {\n",
        "          \"nome\": texto,\n",
        "          \"banco\": texto,\n",
        "          \"tipo\": texto\n",
        "      },\n",
        "      \"destinatario\": {\n",
        "          \"nome\": texto,\n",
        "          \"banco\":texto,\n",
        "          \"tipo\": texto\n",
        "      },          \n",
        "      \"categoria\":texto,\n",
        "      \"chave_pix\":texto,\n",
        "      \"transaction_date\":texto,\n",
        "      \"fraude\":inteiro,\n",
        "  }\n",
        "    ```\n",
        "  - Faça sua transformação para formato colunar\n",
        "- Análise Exploratória de Dados: Use o PySpark para analisar padrões de uso do PIX:\n",
        "  - chaves pix mais usadas;\n",
        "  - os valores de transação mais comuns;\n",
        "  - distribuição dos valores de transação por hora e dia;\n",
        "  - quais bancos receberam mais transferências por dia;\n",
        "  - para qual tipo de pessoa (PF ou PJ) foram realizadas mais transações\n",
        "- Engenharia de Recursos: Apresentar novas características que podem ser úteis para a detecção de fraudes, tais como o número de transações feitas pelo mesmo remetente em um período de tempo específico.\n",
        "- Modelagem: Use o PySpark MLlib para treinar e detectar possíveis transações que contenham fraude.\n",
        "\n",
        "### Observação\n",
        "É importante notar que este é um caso simplificado, e em cenários do mundo real você teria que lidar com dados mais complexos, usar técnicas mais avançadas como métodos de conjuntos e considerar o conhecimento de domínio, bem como leis e regulamentos das instituições financeiras no Brasil.\n",
        "\n",
        "\n",
        "### Observação II\n",
        "Não existe resposta 100% correta. É necessário que você use seu pensamento crítico para definir as melhores métricas e análises para o caso."
      ],
      "metadata": {
        "id": "CUrfUdhmyVpV"
      }
    },
    {
      "cell_type": "markdown",
      "source": [
        "# Entendimento do Negócio\n",
        "Você trabalha em um banco e o principal meio de pagamento utilizado no seu banco é o Pix.\n",
        "\n",
        "Através da base de transações do pix o banco deseja entender qual é o perfil dos clientes que utilizam o pix, além de verificar possíveis transações que tenham fraude. Porém, eles tem um cliente específico que tem um relacionamento muito bom para o banco, por isso, você recebeu a base de transações de cliente dos últimos 2 anos e precisa a partir dela criar um relatório contendo as principais características das transações.\n",
        "\n",
        "\n",
        "Então, resumindo, temos dois principais objetivos para esse case:\n",
        "1. Obter valor a partir dos dados\n",
        "  - Para qual banco esse cliente mais transfere?\n",
        "  - Qual é a média de transferências por período que esse cliente faz?\n",
        "  - Baseando-se no valor das transferências, poderia dar um aumento de crédito?\n",
        "  - Para o que esse cliente mais usa as transferências?\n",
        "2. Executar um algoritmo de machine learning que identifique possíveis transações com fraude.\n",
        "3. Pós Processamento\n",
        "  - Defina ao mínimo cinco métricas de qualidade para seus dados\n",
        "  - Explique se os seus dados estão com uma boa qualidade"
      ],
      "metadata": {
        "id": "1qEUukChAJ1t"
      }
    },
    {
      "cell_type": "markdown",
      "source": [
        "# Preparação do Ambiente de Desenvolvimento"
      ],
      "metadata": {
        "id": "fpXPtmLKKxnk"
      }
    },
    {
      "cell_type": "markdown",
      "source": [
        "# Data Undesrtanting\n",
        "\n",
        "Primeiramente, devemos entender tudo sobre a fonte dos dados\n",
        "- Como o dado chega até nós?\n",
        "- Qual formato virá?\n",
        "- Aonde o processamento será executado (AWS EMR, Cluster On-Premise)?\n",
        "- De quanto em quanto tempo eu preciso gerar esse relatório (mensal, diário, near-real time)?\n",
        "\n",
        "```json\n",
        "{\n",
        "  \"id_transacao\": inteiro,\n",
        "  \"valor\": texto,\n",
        "  \"remetente\": {\n",
        "      \"nome\": texto,\n",
        "      \"banco\": texto,\n",
        "      \"tipo\": texto\n",
        "  },\n",
        "  \"destinatario\": {\n",
        "      \"nome\": texto,\n",
        "      \"banco\":texto,\n",
        "      \"tipo\": texto\n",
        "  },\n",
        "  \"categoria\": texto,\n",
        "  \"transaction_date\":texto,\n",
        "  \"chave_pix\":texto,\n",
        "  \"fraude\":inteiro,\n",
        "}\n",
        "```\n",
        "\n"
      ],
      "metadata": {
        "id": "NFBKW-UUAMOo"
      }
    },
    {
      "cell_type": "markdown",
      "source": [
        "# Preparação do Ambiente de Desenvolvimento"
      ],
      "metadata": {
        "id": "w679ZgOBfrxv"
      }
    },
    {
      "cell_type": "code",
      "source": [
        "# Instalar a última versão do PySpark\n",
        "!pip install pyspark #==3.3.1\n",
        "\n",
        "# Instalar o NGROK\n",
        "!wget -qnc https://bin.equinox.io/c/4VmDzA7iaHb/ngrok-stable-linux-amd64.zip\n",
        "!unzip -n -q ngrok-stable-linux-amd64.zip\n",
        "\n",
        "\n",
        "# Iniciar a sessão spark\n",
        "from pyspark.sql import SparkSession\n",
        "\n",
        "spark = (\n",
        "    SparkSession.builder\n",
        "      .config('spark.ui.port', '4050')\n",
        "      .appName(\"CaseFinal\")\n",
        "      .getOrCreate()\n",
        ")\n",
        "\n",
        "# Autenticar a sessão do SparkUI com NGROK\n",
        "!./ngrok authtoken 2KBeQEmmd1YNlQ86GGKf3KFOkb3_6sQH7JEnvEhDxwn9A7WnT\n",
        "get_ipython().system_raw('./ngrok http 4050 &')\n",
        "!sleep 10\n",
        "!curl -s http://localhost:4040/api/tunnels | grep -Po 'public_url\":\"(?=https)\\K[^\"]*'"
      ],
      "metadata": {
        "colab": {
          "base_uri": "https://localhost:8080/"
        },
        "id": "drWbf4wbfnv-",
        "outputId": "238f57d7-1dc7-41be-9aed-4d00aaf4910a"
      },
      "execution_count": 10,
      "outputs": [
        {
          "output_type": "stream",
          "name": "stdout",
          "text": [
            "Requirement already satisfied: pyspark in /usr/local/lib/python3.11/dist-packages (3.5.1)\n",
            "Requirement already satisfied: py4j==0.10.9.7 in /usr/local/lib/python3.11/dist-packages (from pyspark) (0.10.9.7)\n",
            "Authtoken saved to configuration file: /root/.ngrok2/ngrok.yml\n"
          ]
        }
      ]
    },
    {
      "cell_type": "code",
      "source": [
        "from google.colab import drive\n",
        "drive.mount('/content/drive')"
      ],
      "metadata": {
        "colab": {
          "base_uri": "https://localhost:8080/"
        },
        "id": "8Ow2m4WMf-JH",
        "outputId": "de35a44d-1183-44fb-cebb-b8a26e9465bf"
      },
      "execution_count": 2,
      "outputs": [
        {
          "output_type": "stream",
          "name": "stdout",
          "text": [
            "Mounted at /content/drive\n"
          ]
        }
      ]
    },
    {
      "cell_type": "markdown",
      "source": [
        "# Preparação dos Dados\n",
        "Agora é hora de começar a preparar os dados de acordo com as suas necessidades."
      ],
      "metadata": {
        "id": "KPvcwRICAPod"
      }
    },
    {
      "cell_type": "code",
      "source": [
        "from pyspark.sql.types import *\n",
        "\n",
        "# Schema para o campo rementente e destinatário\n",
        "schema_remetente_destinatario = StructType([\n",
        "    StructField('nome', StringType()),\n",
        "    StructField('banco', StringType()),\n",
        "    StructField('tipo', StringType())\n",
        "])\n",
        "\n",
        "# Schema para o restante da base\n",
        "schema_base_pix = StructType([\n",
        "    StructField('id_transacao', IntegerType()),\n",
        "    StructField('valor', DoubleType()),\n",
        "    StructField('remetente', schema_remetente_destinatario),\n",
        "    StructField('destinatario', schema_remetente_destinatario),\n",
        "    StructField('chave_pix', StringType()),\n",
        "    StructField('categoria', StringType()),\n",
        "    StructField('transaction_date', StringType()),\n",
        "    StructField('fraude', IntegerType())\n",
        "])\n",
        "\n",
        "caminho_json = '/content/drive/MyDrive/Colab Notebooks/DNC - Ciencia de Dados/SparkML/case_final.json'\n",
        "\n",
        "df = spark.read.json(\n",
        "    caminho_json,\n",
        "    schema=schema_base_pix,\n",
        "    # Formato da hora: 2022-02-25 09:31:47 (verificado dentro do arquivo .json)\n",
        "    timestampFormat=\"yyyy-MM-dd HH:mm:ss\"\n",
        ")\n",
        "df.printSchema()\n",
        "df.show()"
      ],
      "metadata": {
        "colab": {
          "base_uri": "https://localhost:8080/"
        },
        "id": "jwap1OpIkwoN",
        "outputId": "5a2aad07-d242-4f58-c0d3-83aff8cd90d9"
      },
      "execution_count": 12,
      "outputs": [
        {
          "output_type": "stream",
          "name": "stdout",
          "text": [
            "root\n",
            " |-- id_transacao: integer (nullable = true)\n",
            " |-- valor: double (nullable = true)\n",
            " |-- remetente: struct (nullable = true)\n",
            " |    |-- nome: string (nullable = true)\n",
            " |    |-- banco: string (nullable = true)\n",
            " |    |-- tipo: string (nullable = true)\n",
            " |-- destinatario: struct (nullable = true)\n",
            " |    |-- nome: string (nullable = true)\n",
            " |    |-- banco: string (nullable = true)\n",
            " |    |-- tipo: string (nullable = true)\n",
            " |-- chave_pix: string (nullable = true)\n",
            " |-- categoria: string (nullable = true)\n",
            " |-- transaction_date: string (nullable = true)\n",
            " |-- fraude: integer (nullable = true)\n",
            "\n",
            "+------------+------------------+--------------------+--------------------+---------+-------------+-------------------+------+\n",
            "|id_transacao|             valor|           remetente|        destinatario|chave_pix|    categoria|   transaction_date|fraude|\n",
            "+------------+------------------+--------------------+--------------------+---------+-------------+-------------------+------+\n",
            "|        1000|            588.08|{Jonathan Gonsalv...|{Calebe Melo, Cai...|aleatoria|       outros|2021-07-16 05:00:55|     0|\n",
            "|        1001|           80682.5|{Jonathan Gonsalv...|{Davi Lucas Perei...|  celular|transferencia|2022-04-20 12:34:01|     1|\n",
            "|        1002|             549.9|{Jonathan Gonsalv...|{Sabrina Castro, ...|      cpf|        lazer|2022-07-10 16:51:34|     0|\n",
            "|        1003|             90.83|{Jonathan Gonsalv...|{Francisco da Con...|aleatoria|   transporte|2022-10-20 10:57:36|     0|\n",
            "|        1004|13272.619999999999|{Jonathan Gonsalv...|{Isabelly Ferreir...|    email|transferencia|2021-04-06 20:26:51|     0|\n",
            "|        1005|           9347.58|{Jonathan Gonsalv...|{Srta. Maria da C...|aleatoria|        saude|2022-07-24 15:22:27|     0|\n",
            "|        1006|           7836.76|{Jonathan Gonsalv...|{Catarina Duarte,...|      cpf|    presentes|2022-10-05 19:20:24|     0|\n",
            "|        1007|           3883.62|{Jonathan Gonsalv...|{Vitor Correia, X...|      cpf|    vestuario|2021-04-24 17:36:34|     0|\n",
            "|        1008|               4.0|{Jonathan Gonsalv...|{Theo Novaes, C6,...|aleatoria|        saude|2021-11-16 21:46:47|     0|\n",
            "|        1009|              24.3|{Jonathan Gonsalv...|{Isabel Caldeira,...|      cpf|transferencia|2021-07-26 02:08:49|     0|\n",
            "|        1010|           87555.3|{Jonathan Gonsalv...|{Sr. Henrique Car...|aleatoria|transferencia|2022-03-14 15:34:45|     1|\n",
            "|        1011|          21345.91|{Jonathan Gonsalv...|{Felipe Cavalcant...|      cpf|transferencia|2021-10-31 04:31:51|     1|\n",
            "|        1012|          73605.85|{Jonathan Gonsalv...|{Dr. Davi da Luz,...|  celular|transferencia|2021-04-30 19:19:56|     1|\n",
            "|        1013|             93.53|{Jonathan Gonsalv...|{Stephany Cardoso...|      cpf|  alimentacao|2023-01-13 13:39:57|     0|\n",
            "|        1014|            564.11|{Jonathan Gonsalv...|{Sra. Julia Arauj...|aleatoria|    vestuario|2022-05-27 23:06:08|     0|\n",
            "|        1015|              3.59|{Jonathan Gonsalv...|{Carolina Farias,...|    email|        saude|2021-10-06 21:19:58|     0|\n",
            "|        1016|          19164.89|{Jonathan Gonsalv...|{Isabelly da Cost...|    email|  alimentacao|2022-03-06 17:59:43|     0|\n",
            "|        1017|             68.45|{Jonathan Gonsalv...|{Joao Miguel Silv...|aleatoria|    vestuario|2022-04-01 18:17:40|     0|\n",
            "|        1018|            941.25|{Jonathan Gonsalv...|{Matheus Moura, C...|  celular|    vestuario|2022-05-23 00:28:13|     0|\n",
            "|        1019|27009.910000000003|{Jonathan Gonsalv...|{Gabrielly Goncal...|    email|transferencia|2021-08-04 23:22:37|     1|\n",
            "+------------+------------------+--------------------+--------------------+---------+-------------+-------------------+------+\n",
            "only showing top 20 rows\n",
            "\n"
          ]
        }
      ]
    },
    {
      "cell_type": "code",
      "source": [
        "from pyspark.sql.functions import *\n",
        "# Cria um novo dataframe com as colunas achatadadas\n",
        "df_flatten = df.withColumns({\n",
        "    # Extrai o campo 'nome' de dentro da estrutura 'destinatario'\n",
        "    'destinatario_nome': col('destinatario').getField('nome'),\n",
        "    # Extrai o campo 'banco' de dentro da estrutura 'destinatario'\n",
        "    'destinatario_banco': col('destinatario').getField('banco'),\n",
        "    # Extrai o campo 'tipo' de dentro da estrutura 'destinatario'\n",
        "    'destinatario_tipo': col('destinatario').getField('tipo'),\n",
        "    # Extrai o campo 'nome' de dentro da estrutura 'remetente'\n",
        "    'remetente_nome': col('remetente').getField('nome'),\n",
        "    # Extrai o campo 'banco' de dentro da estrutura 'remetente'\n",
        "    'remetente_banco': col('remetente').getField('banco'),\n",
        "    # Extrai o campo 'tipo' de dentro da estrutura 'remetente'\n",
        "    'remetente_tipo': col('remetente').getField('tipo'),\n",
        "}).drop('remetente', 'destinatario') # Dropa do df as estruturas remente e destinatario\n",
        "\n",
        "df_flatten.show()"
      ],
      "metadata": {
        "colab": {
          "base_uri": "https://localhost:8080/"
        },
        "id": "SjF5Qu3Bk6kt",
        "outputId": "c3bd6b56-0ec2-487a-ddca-80a3e128414a"
      },
      "execution_count": 15,
      "outputs": [
        {
          "output_type": "stream",
          "name": "stdout",
          "text": [
            "+------------+------------------+---------+-------------+-------------------+------+--------------------+------------------+-----------------+------------------+---------------+--------------+\n",
            "|id_transacao|             valor|chave_pix|    categoria|   transaction_date|fraude|   destinatario_nome|destinatario_banco|destinatario_tipo|    remetente_nome|remetente_banco|remetente_tipo|\n",
            "+------------+------------------+---------+-------------+-------------------+------+--------------------+------------------+-----------------+------------------+---------------+--------------+\n",
            "|        1000|            588.08|aleatoria|       outros|2021-07-16 05:00:55|     0|         Calebe Melo|             Caixa|               PF|Jonathan Gonsalves|            BTG|            PF|\n",
            "|        1001|           80682.5|  celular|transferencia|2022-04-20 12:34:01|     1|  Davi Lucas Pereira|             Caixa|               PJ|Jonathan Gonsalves|            BTG|            PF|\n",
            "|        1002|             549.9|      cpf|        lazer|2022-07-10 16:51:34|     0|      Sabrina Castro|            Nubank|               PF|Jonathan Gonsalves|            BTG|            PF|\n",
            "|        1003|             90.83|aleatoria|   transporte|2022-10-20 10:57:36|     0|Francisco da Conc...|            Nubank|               PJ|Jonathan Gonsalves|            BTG|            PF|\n",
            "|        1004|13272.619999999999|    email|transferencia|2021-04-06 20:26:51|     0|   Isabelly Ferreira|               BTG|               PJ|Jonathan Gonsalves|            BTG|            PF|\n",
            "|        1005|           9347.58|aleatoria|        saude|2022-07-24 15:22:27|     0|Srta. Maria da Cunha|              Itau|               PJ|Jonathan Gonsalves|            BTG|            PF|\n",
            "|        1006|           7836.76|      cpf|    presentes|2022-10-05 19:20:24|     0|     Catarina Duarte|                C6|               PF|Jonathan Gonsalves|            BTG|            PF|\n",
            "|        1007|           3883.62|      cpf|    vestuario|2021-04-24 17:36:34|     0|       Vitor Correia|                XP|               PJ|Jonathan Gonsalves|            BTG|            PF|\n",
            "|        1008|               4.0|aleatoria|        saude|2021-11-16 21:46:47|     0|         Theo Novaes|                C6|               PJ|Jonathan Gonsalves|            BTG|            PF|\n",
            "|        1009|              24.3|      cpf|transferencia|2021-07-26 02:08:49|     0|     Isabel Caldeira|                XP|               PJ|Jonathan Gonsalves|            BTG|            PF|\n",
            "|        1010|           87555.3|aleatoria|transferencia|2022-03-14 15:34:45|     1|Sr. Henrique Cardoso|            Nubank|               PF|Jonathan Gonsalves|            BTG|            PF|\n",
            "|        1011|          21345.91|      cpf|transferencia|2021-10-31 04:31:51|     1|   Felipe Cavalcanti|            Nubank|               PJ|Jonathan Gonsalves|            BTG|            PF|\n",
            "|        1012|          73605.85|  celular|transferencia|2021-04-30 19:19:56|     1|     Dr. Davi da Luz|          Bradesco|               PJ|Jonathan Gonsalves|            BTG|            PF|\n",
            "|        1013|             93.53|      cpf|  alimentacao|2023-01-13 13:39:57|     0|    Stephany Cardoso|                C6|               PJ|Jonathan Gonsalves|            BTG|            PF|\n",
            "|        1014|            564.11|aleatoria|    vestuario|2022-05-27 23:06:08|     0|   Sra. Julia Araujo|              Itau|               PJ|Jonathan Gonsalves|            BTG|            PF|\n",
            "|        1015|              3.59|    email|        saude|2021-10-06 21:19:58|     0|     Carolina Farias|            Nubank|               PJ|Jonathan Gonsalves|            BTG|            PF|\n",
            "|        1016|          19164.89|    email|  alimentacao|2022-03-06 17:59:43|     0|   Isabelly da Costa|            Nubank|               PJ|Jonathan Gonsalves|            BTG|            PF|\n",
            "|        1017|             68.45|aleatoria|    vestuario|2022-04-01 18:17:40|     0|Joao Miguel Silveira|                C6|               PJ|Jonathan Gonsalves|            BTG|            PF|\n",
            "|        1018|            941.25|  celular|    vestuario|2022-05-23 00:28:13|     0|       Matheus Moura|                C6|               PF|Jonathan Gonsalves|            BTG|            PF|\n",
            "|        1019|27009.910000000003|    email|transferencia|2021-08-04 23:22:37|     1| Gabrielly Goncalves|              Itau|               PJ|Jonathan Gonsalves|            BTG|            PF|\n",
            "+------------+------------------+---------+-------------+-------------------+------+--------------------+------------------+-----------------+------------------+---------------+--------------+\n",
            "only showing top 20 rows\n",
            "\n"
          ]
        }
      ]
    },
    {
      "cell_type": "code",
      "source": [
        "# Estatísticas do df_flatten\n",
        "df_flatten.describe().show()"
      ],
      "metadata": {
        "colab": {
          "base_uri": "https://localhost:8080/"
        },
        "id": "198ws1OKnm7s",
        "outputId": "0fc03a62-3b2e-4349-d526-cfede6054ed3"
      },
      "execution_count": 17,
      "outputs": [
        {
          "output_type": "stream",
          "name": "stdout",
          "text": [
            "+-------+-----------------+------------------+---------+-----------+-------------------+------------------+-----------------+------------------+-----------------+------------------+---------------+--------------+\n",
            "|summary|     id_transacao|             valor|chave_pix|  categoria|   transaction_date|            fraude|destinatario_nome|destinatario_banco|destinatario_tipo|    remetente_nome|remetente_banco|remetente_tipo|\n",
            "+-------+-----------------+------------------+---------+-----------+-------------------+------------------+-----------------+------------------+-----------------+------------------+---------------+--------------+\n",
            "|  count|           100000|            100000|   100000|     100000|             100000|            100000|           100000|            100000|           100000|            100000|         100000|        100000|\n",
            "|   mean|          50999.5|10303.358732200059|     NULL|       NULL|               NULL|           0.15367|             NULL|              NULL|             NULL|              NULL|           NULL|          NULL|\n",
            "| stddev|28867.65779668774| 20874.99768875586|     NULL|       NULL|               NULL|0.3606339302787737|             NULL|              NULL|             NULL|              NULL|           NULL|          NULL|\n",
            "|    min|             1000|               0.0|aleatoria|alimentacao|2021-01-14 15:37:45|                 0|   Agatha Almeida|               BTG|               PF|Jonathan Gonsalves|            BTG|            PF|\n",
            "|    max|           100999|          89996.33|    email|  vestuario|2023-01-15 02:51:10|                 1|   Yuri das Neves|                XP|               PJ|Jonathan Gonsalves|            BTG|            PF|\n",
            "+-------+-----------------+------------------+---------+-----------+-------------------+------------------+-----------------+------------------+-----------------+------------------+---------------+--------------+\n",
            "\n"
          ]
        }
      ]
    },
    {
      "cell_type": "markdown",
      "source": [
        "# Modelagem\n",
        "Aqui você encontrará utilidade para os dados levantados.\n",
        "\n",
        "Aqui será onde teremos insights e, a partir desses, novos conhecimentos sobre o business (se tudo até aqui foi feito corretamente).\n",
        "\n",
        "\n",
        "- Para qual banco esse cliente mais transfere?\n",
        "- Qual é a média de transferências por período que esse cliente faz?\n",
        "- Baseando-se no valor das transferências, poderia dar um aumento de crédito?\n",
        "- Para o que esse cliente mais usa as transferências?\n",
        "- Executar um algoritmo de machine learning que identifique possíveis transações com fraude.\n"
      ],
      "metadata": {
        "id": "tnOJ5pwHARTD"
      }
    },
    {
      "cell_type": "markdown",
      "source": [
        "## Modelo de Predição de Fraudes"
      ],
      "metadata": {
        "id": "rIVX81NQzsoZ"
      }
    },
    {
      "cell_type": "markdown",
      "source": [
        "# Avaliação do Modelo\n",
        "Será que seu modelo atinge todas as necessidades que foram definidas inicialmente? (e.g. pessoa em cima da bicicleta muda o resultado final)\n",
        "\n"
      ],
      "metadata": {
        "id": "2zHoQJWtATfX"
      }
    },
    {
      "cell_type": "markdown",
      "source": [
        "# Deployment\n",
        "Apresente o relatório com os resultados obtidos.\n",
        "\n",
        "\n",
        "\n",
        "\n",
        "  "
      ],
      "metadata": {
        "id": "JOTAB1JSAVPi"
      }
    }
  ]
}